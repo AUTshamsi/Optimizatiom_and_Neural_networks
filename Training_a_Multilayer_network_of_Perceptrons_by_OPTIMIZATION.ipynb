{
 "cells": [
  {
   "attachments": {},
   "cell_type": "markdown",
   "metadata": {},
   "source": [
    "# Training a Multilayer network of PERCEPTRONS by OPTIMIZATION"
   ]
  },
  {
   "cell_type": "code",
   "execution_count": 12,
   "metadata": {},
   "outputs": [],
   "source": [
    "import numpy as np\n",
    "import matplotlib.pyplot as plt\n",
    "from scipy.optimize import minimize\n",
    "from mpl_toolkits import mplot3d\n",
    "import time\n",
    "import sklearn.datasets as ds\n",
    "\n",
    "%run my_lib.ipynb\n",
    "%run binary_dataset_gallery.ipynb\n",
    "from sklearn.neural_network import MLPClassifier"
   ]
  },
  {
   "cell_type": "code",
   "execution_count": 13,
   "metadata": {},
   "outputs": [],
   "source": [
    "XD,yD=binary_dataset_galery()\n",
    "#plot_gallery(XD,yD,n_cols=4,fsize=20)"
   ]
  },
  {
   "cell_type": "code",
   "execution_count": 14,
   "metadata": {},
   "outputs": [],
   "source": [
    "# Data set and visualizaition of it\n",
    "#X,y = ds.make_circles(n_samples=800,noise=0.02)\n",
    "#X,y = ds.make_moons(n_samples=800,noise=0.02)\n",
    "\n",
    "k=0 # Select a dataset\n",
    "X=XD[k]\n",
    "y=yD[k]\n",
    "\n",
    "fig,ax=plt.subplots(figsize=[5,5])\n",
    "plot_dataset(X,y,ax)"
   ]
  },
  {
   "cell_type": "code",
   "execution_count": 15,
   "metadata": {},
   "outputs": [],
   "source": [
    "# setting Sign function as ACTIVATION function\n",
    "actfun=np.sign"
   ]
  },
  {
   "cell_type": "code",
   "execution_count": 16,
   "metadata": {},
   "outputs": [],
   "source": [
    "# Set up network and initialize weigtts and biases\n",
    "N=[2,1]\n",
    "x0=np.array([1,2])\n",
    "W=[np.random.randn(N[i+1],N[i])   for i in range(len(N)-1)] \n",
    "b=[np.random.randn(N[i+1])       for i in range(len(N)-1)] \n",
    "forpro(x0,N,W,b,actfun)\n",
    "wb=flatten_wb(N,W,b)"
   ]
  },
  {
   "cell_type": "code",
   "execution_count": 17,
   "metadata": {},
   "outputs": [],
   "source": [
    "# Loss functio\n",
    "def loss(wb):\n",
    "    W1,b1=unflatten_wb(N,wb)\n",
    "    s=0\n",
    "    for i in range(len(y)):\n",
    "        s=s+(forpro(X[i],N,W1,b1,actfun)-y[i])**2\n",
    "    return s\n"
   ]
  },
  {
   "attachments": {},
   "cell_type": "markdown",
   "metadata": {},
   "source": [
    "### Minimization of loss function by scipy.optimize library"
   ]
  },
  {
   "cell_type": "code",
   "execution_count": 18,
   "metadata": {},
   "outputs": [
    {
     "name": "stdout",
     "output_type": "stream",
     "text": [
      "Optimization terminated successfully.\n"
     ]
    },
    {
     "data": {
      "text/plain": [
       "True"
      ]
     },
     "execution_count": 18,
     "metadata": {},
     "output_type": "execute_result"
    }
   ],
   "source": [
    "res = minimize(loss, wb, method='bfgs', tol=1e-4)\n",
    "\n",
    "print(res.message)\n",
    "res.status\n",
    "res.success"
   ]
  },
  {
   "cell_type": "code",
   "execution_count": 19,
   "metadata": {},
   "outputs": [],
   "source": [
    "Ws,bs=unflatten_wb(N,res.x)"
   ]
  },
  {
   "cell_type": "code",
   "execution_count": 20,
   "metadata": {},
   "outputs": [],
   "source": [
    "tx=np.linspace(X[:,0].min(),X[:,0].max(),300)\n",
    "ty=np.linspace(X[:,1].min(),X[:,1].max(),300)\n",
    "XX,YY=np.meshgrid(tx,ty)\n",
    "ZZ=np.empty(XX.shape)\n",
    "for i in range(XX.shape[0]):\n",
    "    for j in range(XX.shape[1]):\n",
    "        ZZ[i,j]=forpro(np.array([XX[i,j],YY[i,j]]),N,Ws,bs,actfun)"
   ]
  },
  {
   "cell_type": "code",
   "execution_count": 21,
   "metadata": {},
   "outputs": [],
   "source": [
    "#%matplotlib qt\n",
    "fig,ax=plt.subplots( figsize=[5, 5])\n",
    "ax.contourf(XX,YY,ZZ,1,cmap='RdBu')\n",
    "plot_dataset(X,y,ax)"
   ]
  },
  {
   "attachments": {},
   "cell_type": "markdown",
   "metadata": {},
   "source": [
    "### =================================================================="
   ]
  },
  {
   "attachments": {},
   "cell_type": "markdown",
   "metadata": {},
   "source": [
    "# جمع بندی"
   ]
  },
  {
   "attachments": {},
   "cell_type": "markdown",
   "metadata": {},
   "source": [
    "شبکه چندلایه حاصل از ترکیب پرسپترون‌ها را تشکیل دادیم\n",
    "و یک تابع زیان نیز در نظر گرفتیم.\n",
    "سعی کردیم با الگوریتم‌های بهینه‌سازی، تابع زیان را مینیمم کنیم\n",
    "اما این الگوریتم‌ها قادر به مینیمم کردن تابع زیان نشدند.\n",
    "در واقع این الگوریتم‌ها حدس اولیه گرفته شده را به عنوان جواب مساله معرفی می‌کرد.\n",
    "علت این است که تابع زیان یک تابع تکه‌ای ثابت (ناهموار) است و\n",
    "تبعا الگوریتم‌های بهینه‌سازی برای این توابع قابل اعمال نمی‌باشند.\n",
    "\n",
    "البته از برخی روش‌های مستقیم، مانند روش‌های جستجوی شبکه و ... می‌توان برای مینیمم کردن تابع زیان استفاده کرد. \n",
    "اما این روش‌‌ها برای مسایل بزرگ مقیاس به هیچ وجه کارایی مناسبی ندارند."
   ]
  },
  {
   "cell_type": "markdown",
   "metadata": {},
   "source": []
  }
 ],
 "metadata": {
  "kernelspec": {
   "display_name": "base",
   "language": "python",
   "name": "python3"
  },
  "language_info": {
   "codemirror_mode": {
    "name": "ipython",
    "version": 3
   },
   "file_extension": ".py",
   "mimetype": "text/x-python",
   "name": "python",
   "nbconvert_exporter": "python",
   "pygments_lexer": "ipython3",
   "version": "3.9.13"
  },
  "orig_nbformat": 4,
  "vscode": {
   "interpreter": {
    "hash": "c7db5c88ab94486656b7ac7f629b88f87a7cab58a53bde7d23b71775bd1bff53"
   }
  }
 },
 "nbformat": 4,
 "nbformat_minor": 2
}
