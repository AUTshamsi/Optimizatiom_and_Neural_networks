{
 "cells": [
  {
   "cell_type": "code",
   "execution_count": null,
   "metadata": {},
   "outputs": [],
   "source": [
    "def pers_plot(ax,cord,w,b,X=[],y=[]):  \n",
    "    ax.grid(linestyle=':', linewidth=0.5)\n",
    "    ax.set_xlim(cord[0],cord[1])\n",
    "    ax.set_ylim(cord[2],cord[3])\n",
    "\n",
    "\n",
    "    if w[1]!=0:\n",
    "        xx=np.array([cord[0],cord[1]])\n",
    "        yy=np.array([-(w[0]*cord[0]+b)/w[1],-(w[0]*cord[1]+b)/w[1]])\n",
    "\n",
    "        if w[0]*xx[0]+w[1]*(yy[0]+.1)+b<0:\n",
    "            manfi,mosbat=cord[3],cord[2]\n",
    "        else:\n",
    "            mosbat,manfi=cord[3],cord[2]\n",
    "\n",
    "        ax.fill_between(xx,manfi,yy,color=[0,0,1],alpha=.1,label='Negative Part')\n",
    "        ax.fill_between(xx,mosbat,yy,color=[1,0,0],alpha=.1,label='Positive Part')\n",
    "        ax.plot([cord[0],cord[1]],[-(w[0]*cord[0]+b)/w[1],-(w[0]*cord[1]+b)/w[1]],linewidth=4,color=[0,0,0],label='$'+str(w[0])+'x_1+'+str(w[1])+'x_2+'+str(b)+'=0$') #Plot Line\n",
    "\n",
    "    else:\n",
    "        z=-b/w[0]\n",
    "        xx=np.array([z,z])\n",
    "        yy=np.array([cord[2],cord[3]])   \n",
    "\n",
    "        xxx=np.array([cord[0],z,cord[1]])\n",
    "        ax.fill_between(xxx,cord[2],cord[3],where=w[0]*xxx+b<=0,color=[0,0,1],alpha=.1,label='Negative Part')\n",
    "        ax.fill_between(xxx,cord[2],cord[3],where=w[0]*xxx+b>=0,color=[1,0,0],alpha=.1,label='Negative Part')\n",
    "        ax.plot(xx,yy,linewidth=4,color=[0,0,0],label='$'+str(w[0])+'x_1+'+str(w[1])+'x_2+'+str(b)+'=0$') #Plot Line\n",
    "\n",
    "    if len(y)>0:\n",
    "        ax.scatter(X[y==-1,0],X[y==-1,1],s=64,edgecolors='blue',marker='s', facecolors='blue',label='Class A (y=-1)')\n",
    "        ax.scatter(X[y==+1,0],X[y==+1,1],s=64,edgecolors='red',marker='o', facecolors='red',label='Class B (y=+1)')\n",
    "    \n",
    "    ax.legend(loc='center left', bbox_to_anchor=(1, .5), ncol=1, fontsize=16,facecolor=[1,1,1])\n"
   ]
  },
  {
   "cell_type": "code",
   "execution_count": 2,
   "metadata": {},
   "outputs": [],
   "source": [
    "# Forward Propagation\n",
    "# x: input vector\n",
    "# N: list of number of layers. Example: [n1,n2,n3] means that: number of inputs=n1, number of neuron in the first layer=n2 and number of second (output) layer=n3 \n",
    "# W: a list containing matrices of weights.\n",
    "# b: a list containing vectors of biases.\n",
    "# actfun: Activation function\n",
    " \n",
    "def forpro(x,N,W,b,actfun):\n",
    "    a=x.copy()\n",
    "    for l in range(len(N)-1):\n",
    "        a=actfun(W[l] @ a +b[l])\n",
    "    return a"
   ]
  },
  {
   "cell_type": "code",
   "execution_count": null,
   "metadata": {},
   "outputs": [],
   "source": [
    "# This function Gets matrices of weights and vectors of biases and flats them to a vector\n",
    "def flatten_wb(n,W,b):\n",
    "    W2=W.copy()\n",
    "    b2=b.copy()\n",
    "    return np.concatenate([np.concatenate([W2[i].reshape(-1) for i in range(len(n)-1)]),np.concatenate([b2[j] for j in range(len(n)-1)])])"
   ]
  },
  {
   "cell_type": "code",
   "execution_count": null,
   "metadata": {},
   "outputs": [],
   "source": [
    "# This function acts as inveerse of flatten_wb function.\n",
    "def unflatten_wb(n,x):\n",
    "    beg=0\n",
    "    Wq=[]\n",
    "    bq=[]\n",
    "    x2=x.copy()\n",
    "    for i in range(len(n)-1):\n",
    "        Wq.append(np.reshape(x2[beg:beg+n[i]*n[i+1]],(n[i+1],n[i])))\n",
    "        beg+=n[i]*n[i+1]\n",
    "    for i in range(len(n)-1):\n",
    "        bq.append(x2[beg:beg+n[i+1]])\n",
    "        beg+=n[i+1]   \n",
    "    return Wq ,bq "
   ]
  },
  {
   "cell_type": "code",
   "execution_count": null,
   "metadata": {},
   "outputs": [],
   "source": [
    "# This function visualize Datasets\n",
    "\n",
    "def plot_dataset(X,y,ax):\n",
    "    Xa=X[y==0,:]\n",
    "    ax.scatter(Xa[:,0],Xa[:,1],color=[1,0,0],label='Class 0')\n",
    "\n",
    "    Xb=X[y==1,:]\n",
    "    ax.scatter(Xb[:,0],Xb[:,1],color=[0,0,1],label='Class 1')\n",
    "    ax.legend()\n",
    "    ax.grid()"
   ]
  }
 ],
 "metadata": {
  "kernelspec": {
   "display_name": "Python 3",
   "language": "python",
   "name": "python3"
  },
  "language_info": {
   "codemirror_mode": {
    "name": "ipython",
    "version": 3
   },
   "file_extension": ".py",
   "mimetype": "text/x-python",
   "name": "python",
   "nbconvert_exporter": "python",
   "pygments_lexer": "ipython3",
   "version": "3.9.7"
  },
  "orig_nbformat": 4,
  "vscode": {
   "interpreter": {
    "hash": "ab0b34681d20f519dc08b15394b8f06f4492cd17175ad9c9ed249d75014fd12b"
   }
  }
 },
 "nbformat": 4,
 "nbformat_minor": 2
}
